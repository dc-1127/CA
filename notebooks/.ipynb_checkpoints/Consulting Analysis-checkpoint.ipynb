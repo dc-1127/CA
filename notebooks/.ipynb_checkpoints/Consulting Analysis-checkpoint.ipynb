{
 "cells": [
  {
   "cell_type": "markdown",
   "metadata": {},
   "source": [
    "# Headquarters Analysis\n",
    "## Smaller header\n",
    "\n",
    "type text here to explain reasoning"
   ]
  },
  {
   "cell_type": "code",
   "execution_count": null,
   "metadata": {
    "scrolled": true
   },
   "outputs": [],
   "source": [
    "import pandas as pd\n",
    "\n",
    "df_contracts = pd.read_csv('../data/contracts.csv')\n",
    "df_customers = pd.read_csv('../data/customers.csv')\n",
    "df_customers.rename(columns={'id':'customer_id'}, inplace=True)\n",
    "df_customers.set_index('customer_id', inplace=True)\n",
    "df_contracts = df_contracts.set_index('customer_id')\n",
    "df = df_contracts.join(df_customers, how='left')\n",
    "df.head(25)"
   ]
  },
  {
   "cell_type": "code",
   "execution_count": null,
   "metadata": {
    "scrolled": true
   },
   "outputs": [],
   "source": [
    "# pivot and sort\n",
    "df.groupby('state').agg({'contract_id':'count', 'company':pd.Series.nunique}).sort_values('company', ascending=False)"
   ]
  },
  {
   "cell_type": "code",
   "execution_count": null,
   "metadata": {
    "scrolled": true
   },
   "outputs": [],
   "source": [
    "# filter\n",
    "df['sector'].fillna('')\n",
    "df.loc[df['contract_term'] < 2]"
   ]
  },
  {
   "cell_type": "code",
   "execution_count": null,
   "metadata": {},
   "outputs": [],
   "source": [
    "df['sector'] = df['sector'].fillna('')\n",
    "df.loc[df['contract_term'] < 2]"
   ]
  },
  {
   "cell_type": "code",
   "execution_count": null,
   "metadata": {},
   "outputs": [],
   "source": [
    "df.loc[df['contract_term']> 5]"
   ]
  },
  {
   "cell_type": "code",
   "execution_count": null,
   "metadata": {},
   "outputs": [],
   "source": [
    "# filter and pinpoint\n",
    "list(df.loc[df['state'] == 'FL', 'company'].unique())"
   ]
  },
  {
   "cell_type": "markdown",
   "metadata": {},
   "source": [
    "## list comprehension\n",
    "https://runestone.academy/runestone/books/published/thinkcspy/Lists/ListComprehensions.html\n"
   ]
  },
  {
   "cell_type": "code",
   "execution_count": null,
   "metadata": {
    "scrolled": false
   },
   "outputs": [],
   "source": [
    "import re\n",
    "\n",
    "for each in ['deposit', 'monthly_amt']:\n",
    "    df.loc[:, each] = pd.to_numeric([re.sub('[^0-9.]', '', str(s)) for s in df[each]])\n",
    "\n",
    "df"
   ]
  },
  {
   "cell_type": "code",
   "execution_count": null,
   "metadata": {
    "scrolled": false
   },
   "outputs": [],
   "source": [
    "df.groupby('state').agg({'contract_id' : 'count','company':pd.Series.nunique})"
   ]
  },
  {
   "cell_type": "code",
   "execution_count": null,
   "metadata": {},
   "outputs": [],
   "source": [
    "df.loc[df['state']=='FL', 'company'].unique()"
   ]
  },
  {
   "cell_type": "code",
   "execution_count": null,
   "metadata": {},
   "outputs": [],
   "source": [
    "df['contract_amount'] = df['deposit'] + (df['contract_term'] * df['monthly_amt'])\n",
    "df.head()"
   ]
  },
  {
   "cell_type": "markdown",
   "metadata": {},
   "source": [
    "## Conclustion\n",
    "\n",
    "Provide reasoning for analysis"
   ]
  },
  {
   "cell_type": "code",
   "execution_count": 4,
   "metadata": {},
   "outputs": [],
   "source": [
    "# Most of the customers are from Florida, Texas and California. Texas has the highest number \n",
    "# of contracts signed and the number of unique companies they do business with.\n",
    "# Most profitable region are Washington, Kansas, California, Wisconsin. If you look at California, it has one of the highest\n",
    "# number of contracts and number of unique companies along with those it is also one of the most profitable state. This\n",
    "# shows that having a headquarters in California has the potential to benefit the company.\n",
    "# Since location factors greatly when researching for a headquarter. The two most popular location were Texas and Califo-\n",
    "# nia both being on the western side of America. So this means having a headquarter wouldn't make sense.\n",
    "# Through my analysis I beleive having a headquater in Califronia with its high profitibility and the number\n",
    "# unique companies makes it the #1 place for headquarter with Texas right behind it."
   ]
  },
  {
   "cell_type": "code",
   "execution_count": null,
   "metadata": {},
   "outputs": [],
   "source": [
    "\n",
    "\n",
    "\n",
    "\n",
    "\n",
    "\n",
    "\n",
    "\n",
    "\n",
    "\n",
    "\n",
    "\n",
    "\n",
    "\n",
    "\n",
    "\n",
    "\n",
    "\n",
    "\n",
    "\n",
    "\n",
    "\n",
    "\n",
    "\n",
    "\n",
    "\n",
    "\n",
    "\n",
    "\n",
    "\n",
    "\n",
    "\n",
    "\n"
   ]
  }
 ],
 "metadata": {
  "kernelspec": {
   "display_name": "Python 3",
   "language": "python",
   "name": "python3"
  },
  "language_info": {
   "codemirror_mode": {
    "name": "ipython",
    "version": 3
   },
   "file_extension": ".py",
   "mimetype": "text/x-python",
   "name": "python",
   "nbconvert_exporter": "python",
   "pygments_lexer": "ipython3",
   "version": "3.8.3"
  }
 },
 "nbformat": 4,
 "nbformat_minor": 4
}
